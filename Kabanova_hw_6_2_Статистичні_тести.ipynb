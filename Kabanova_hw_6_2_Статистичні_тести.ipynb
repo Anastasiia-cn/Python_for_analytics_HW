{
  "cells": [
    {
      "cell_type": "markdown",
      "metadata": {
        "id": "view-in-github",
        "colab_type": "text"
      },
      "source": [
        "<a href=\"https://colab.research.google.com/github/Anastasiia-cn/Python_for_analytics_HW/blob/main/Kabanova_hw_6_2_%D0%A1%D1%82%D0%B0%D1%82%D0%B8%D1%81%D1%82%D0%B8%D1%87%D0%BD%D1%96_%D1%82%D0%B5%D1%81%D1%82%D0%B8.ipynb\" target=\"_parent\"><img src=\"https://colab.research.google.com/assets/colab-badge.svg\" alt=\"Open In Colab\"/></a>"
      ]
    },
    {
      "cell_type": "markdown",
      "id": "e152f6d6",
      "metadata": {
        "ExecuteTime": {
          "end_time": "2022-12-10T14:29:24.703416Z",
          "start_time": "2022-12-10T14:29:24.688485Z"
        },
        "id": "e152f6d6"
      },
      "source": [
        "## Домашнє завдання 6: Статистичні тести"
      ]
    },
    {
      "cell_type": "code",
      "source": [
        "from google.colab import drive\n",
        "drive.mount('/content/drive')"
      ],
      "metadata": {
        "id": "ReNkvN38ENaQ",
        "colab": {
          "base_uri": "https://localhost:8080/"
        },
        "outputId": "3ad17c25-f541-462a-b0f4-05e5bcdc07d3"
      },
      "id": "ReNkvN38ENaQ",
      "execution_count": null,
      "outputs": [
        {
          "output_type": "stream",
          "name": "stdout",
          "text": [
            "Drive already mounted at /content/drive; to attempt to forcibly remount, call drive.mount(\"/content/drive\", force_remount=True).\n"
          ]
        }
      ]
    },
    {
      "cell_type": "markdown",
      "id": "cd404683",
      "metadata": {
        "id": "cd404683"
      },
      "source": [
        "0. Зчитайте дані з `data.csv` та запишіть значення колонки data у форматі np.ndarray в змінну data. Ми будемо далі працювати з цією змінною."
      ]
    },
    {
      "cell_type": "code",
      "source": [
        "import pandas as pd\n",
        "import numpy as np"
      ],
      "metadata": {
        "id": "a8M1Xqa3hInl"
      },
      "id": "a8M1Xqa3hInl",
      "execution_count": 3,
      "outputs": []
    },
    {
      "cell_type": "code",
      "source": [
        "df = pd.read_csv('/content/drive/MyDrive/Python_DA_course_HW/statistics/data.csv')"
      ],
      "metadata": {
        "id": "scaer1BRGBH0"
      },
      "id": "scaer1BRGBH0",
      "execution_count": 4,
      "outputs": []
    },
    {
      "cell_type": "code",
      "source": [
        "data = df['data'].to_numpy()\n",
        "data"
      ],
      "metadata": {
        "id": "VGrFoweeGFdX",
        "colab": {
          "base_uri": "https://localhost:8080/"
        },
        "outputId": "d4114586-97bf-4dc1-ba2f-fa484851d26e"
      },
      "id": "VGrFoweeGFdX",
      "execution_count": 6,
      "outputs": [
        {
          "output_type": "execute_result",
          "data": {
            "text/plain": [
              "array([17.49945292, 19.66239904,  7.18282343, 29.84162485,  9.23938649,\n",
              "       14.94951581, 23.0172885 , 12.52827148, 13.65228669, 14.54595431,\n",
              "       23.30872427, 33.75324808, 20.24923636, 13.29244733, 23.23434992,\n",
              "       16.4230418 , 19.88521702, 27.05000732, 15.5127743 , 20.05415151,\n",
              "       14.73135264, 19.06139498, 21.53942271, 14.06732571, 17.9670682 ,\n",
              "       18.58289581, 16.17406993, 12.87432628, 11.47269664, 19.07902883,\n",
              "       18.38565824, 33.38820073,  5.39139454, 20.67635903, 22.22266722,\n",
              "       28.15780318, 23.01114324, 14.93471778, 20.00005857, 23.25411543,\n",
              "       18.11895082, 24.62607043,  8.79145607, 30.387108  , 28.80606806,\n",
              "       17.98593597, 23.66804468, 20.28782355, 15.02518827, 20.52626131,\n",
              "       26.00219532, 17.71344489, 17.74598346, 19.55317542, 22.60097798,\n",
              "       27.67027538, 16.19192417, 23.05037746, 21.29669604,  8.84832568,\n",
              "       17.48410111, 19.20602661, 19.76257856, 21.9560206 ,  7.75806171,\n",
              "       20.27753314, 15.93394654, 11.36336584, 23.14577858, 24.41167746,\n",
              "       16.08049839, 25.05473769, 17.71090111, 20.39893405, 13.40756632,\n",
              "       29.50692234,  4.04330326, 19.45128426, 24.17071763,  7.79920072,\n",
              "       18.86318441, 19.53668801, 24.94821803, 27.48927752, 17.57664638,\n",
              "       11.692888  , 28.20341254, 27.3073138 , 17.22796791, 22.10533096,\n",
              "       22.2911974 , 23.39765265, 21.22524787, 28.44017745,  9.57224297,\n",
              "       26.24494372, 22.28283182, 18.69718839, 27.04118899,  5.93838085])"
            ]
          },
          "metadata": {},
          "execution_count": 6
        }
      ]
    },
    {
      "cell_type": "markdown",
      "id": "3d06cbbf",
      "metadata": {
        "id": "3d06cbbf"
      },
      "source": [
        "Запустіть код нижче. Для коректної робити всіх подальших методів дані мають бути у вигляді одновимірного вектора, тобто мати розмір (100,)."
      ]
    },
    {
      "cell_type": "code",
      "source": [
        "data.shape"
      ],
      "metadata": {
        "id": "Rc_cM9TfhJYI",
        "colab": {
          "base_uri": "https://localhost:8080/"
        },
        "outputId": "932b1be0-67bd-4f54-80d7-73bff77ee7bc"
      },
      "id": "Rc_cM9TfhJYI",
      "execution_count": 7,
      "outputs": [
        {
          "output_type": "execute_result",
          "data": {
            "text/plain": [
              "(100,)"
            ]
          },
          "metadata": {},
          "execution_count": 7
        }
      ]
    },
    {
      "cell_type": "markdown",
      "id": "abdcef5d",
      "metadata": {
        "id": "abdcef5d"
      },
      "source": [
        "1. Зчитані дані - це сума покупок в доларах наших покупців на сайті протягом липня 2022 року.\n",
        "\n",
        "До цього місяця, ми мали продажі в середньому на чек $20. Чи вийшло у нас статистично значущо **підвищити** середній чек за останній місяць?\n",
        "\n",
        "Оберіть статистичний тест (z-test чи t-test). Виведіть p-значення статистичного тесту та зробіть висновок, чи ми маємо зараз статистично значущу різницю у розмірі середнього чеку.\n",
        "\n",
        "**Підказка**: тут тест буде одновибірковий."
      ]
    },
    {
      "cell_type": "code",
      "source": [
        "from statsmodels.stats.weightstats import ztest"
      ],
      "metadata": {
        "id": "KH8F-npwSW4E"
      },
      "id": "KH8F-npwSW4E",
      "execution_count": 9,
      "outputs": []
    },
    {
      "cell_type": "code",
      "source": [
        "ztest_Score, p_value = ztest(data, value = 20, alternative='larger')"
      ],
      "metadata": {
        "id": "XhxcSbYqhLz9"
      },
      "id": "XhxcSbYqhLz9",
      "execution_count": 10,
      "outputs": []
    },
    {
      "cell_type": "code",
      "source": [
        "ztest_Score, p_value"
      ],
      "metadata": {
        "colab": {
          "base_uri": "https://localhost:8080/"
        },
        "id": "7RUu3oNiSZ1I",
        "outputId": "5d18afb4-2f65-41a5-96dd-b4d4cb894317"
      },
      "id": "7RUu3oNiSZ1I",
      "execution_count": 11,
      "outputs": [
        {
          "output_type": "execute_result",
          "data": {
            "text/plain": [
              "(-0.9953477389335053, 0.8402164165464012)"
            ]
          },
          "metadata": {},
          "execution_count": 11
        }
      ]
    },
    {
      "cell_type": "code",
      "source": [
        "alpha = 0.05\n",
        "if(p_value < alpha):\n",
        "    print(\"Різниця у розмірі середнього чеку є статистично значущою\")\n",
        "else:\n",
        "    print(\"Різниця у розмірі середнього чеку не є статистично значущою\")"
      ],
      "metadata": {
        "colab": {
          "base_uri": "https://localhost:8080/"
        },
        "id": "cq1nFsHeTAl7",
        "outputId": "81f0f4e6-d3bf-4ee6-96fd-b3b9535b22ec"
      },
      "id": "cq1nFsHeTAl7",
      "execution_count": 12,
      "outputs": [
        {
          "output_type": "stream",
          "name": "stdout",
          "text": [
            "Різниця у розмірі середнього чеку не є статистично значущою\n"
          ]
        }
      ]
    },
    {
      "cell_type": "markdown",
      "id": "05219e41",
      "metadata": {
        "ExecuteTime": {
          "end_time": "2022-12-10T14:52:46.140204Z",
          "start_time": "2022-12-10T14:52:46.112068Z"
        },
        "id": "05219e41"
      },
      "source": [
        "2. Пройшов час, і ми зібрали дані про продажі за серпень 2022 року, які зберігли у файл `data_2.csv`. Продажів було дещо більше, але чи змінився стат. значущо середній чек порівняно з липнем 2022? Перевірте це використовуючи ztest.\n",
        "\n",
        "  Виведіть p-значення статистичного тесту та зробіть висновок, чи ми маємо зараз статистично значущу різницю у розмірі середнього чека між двома місяцями.\n",
        "\n",
        "  **Підказка**: треба провести двовибірковий ztest з Н0 - що середні значення в липні та серпні 2022 року - однакові. Для кращого розуміння ситуації, можливо вам буде цікаво переглянути, які середні показники чеку були в кожен з місяців. Порівняйте свій висновок з простого спостереження середніх значень і висновок статистичного тесту. Чи вони збігаються?"
      ]
    },
    {
      "cell_type": "code",
      "source": [
        "df1 = pd.read_csv('/content/drive/MyDrive/Python_DA_course_HW/statistics/data_2.csv')"
      ],
      "metadata": {
        "id": "hbs7LPI4hP-6"
      },
      "id": "hbs7LPI4hP-6",
      "execution_count": 13,
      "outputs": []
    },
    {
      "cell_type": "code",
      "source": [
        "data1 = df1['data'].to_numpy()\n",
        "data1.shape"
      ],
      "metadata": {
        "colab": {
          "base_uri": "https://localhost:8080/"
        },
        "id": "pynIIzz2UdVm",
        "outputId": "76c60d72-0ec9-4578-d8f5-593c304313f1"
      },
      "id": "pynIIzz2UdVm",
      "execution_count": 15,
      "outputs": [
        {
          "output_type": "execute_result",
          "data": {
            "text/plain": [
              "(120,)"
            ]
          },
          "metadata": {},
          "execution_count": 15
        }
      ]
    },
    {
      "cell_type": "code",
      "source": [
        "# середні значення за липень 2022 та серпень 2022 відповідно\n",
        "np.mean(data), np.mean(data1)"
      ],
      "metadata": {
        "colab": {
          "base_uri": "https://localhost:8080/"
        },
        "id": "BSFRBg8zVbma",
        "outputId": "300cb279-770c-4201-bbf3-d653b6f697d5"
      },
      "id": "BSFRBg8zVbma",
      "execution_count": 24,
      "outputs": [
        {
          "output_type": "execute_result",
          "data": {
            "text/plain": [
              "(19.37755319670441, 19.37322276512519)"
            ]
          },
          "metadata": {},
          "execution_count": 24
        }
      ]
    },
    {
      "cell_type": "markdown",
      "source": [
        "Висновок: середні значення за липень 2022 та серпень 2022 -\n",
        "однакові"
      ],
      "metadata": {
        "id": "TmN5aGu0Yxel"
      },
      "id": "TmN5aGu0Yxel"
    },
    {
      "cell_type": "markdown",
      "source": [
        "Проведемо z-test для перевірки:"
      ],
      "metadata": {
        "id": "0cxsq1N0Y8Vo"
      },
      "id": "0cxsq1N0Y8Vo"
    },
    {
      "cell_type": "code",
      "source": [
        "ztest_Score1, p_value1 = ztest(data, data1, alternative='two-sided')"
      ],
      "metadata": {
        "id": "R3j4sqntWy-o"
      },
      "id": "R3j4sqntWy-o",
      "execution_count": 21,
      "outputs": []
    },
    {
      "cell_type": "code",
      "source": [
        "ztest_Score1, p_value1"
      ],
      "metadata": {
        "colab": {
          "base_uri": "https://localhost:8080/"
        },
        "id": "3OUQGFEEW9C4",
        "outputId": "1b2b570c-09ea-4ec4-fac0-49cf02966fa5"
      },
      "id": "3OUQGFEEW9C4",
      "execution_count": 22,
      "outputs": [
        {
          "output_type": "execute_result",
          "data": {
            "text/plain": [
              "(0.005246673456808504, 0.9958137794593356)"
            ]
          },
          "metadata": {},
          "execution_count": 22
        }
      ]
    },
    {
      "cell_type": "code",
      "source": [
        "# H0: середні значення в липні та серпні 2022 року - однакові\n",
        "if(p_value1 < alpha):\n",
        "    print(\"Відхиляємо H0, отже середні значення в липні та серпні 2022 року - не однакові\")\n",
        "else:\n",
        "    print(\"Приймаємо H0, отже середні значення в липні та серпні 2022 року - однакові\")"
      ],
      "metadata": {
        "colab": {
          "base_uri": "https://localhost:8080/"
        },
        "id": "p1EyAh5yXdfS",
        "outputId": "579da7c4-8267-44b7-c396-61a14b2851d1"
      },
      "id": "p1EyAh5yXdfS",
      "execution_count": 23,
      "outputs": [
        {
          "output_type": "stream",
          "name": "stdout",
          "text": [
            "Приймаємо H0, отже середні значення в липні та серпні 2022 року - однакові\n"
          ]
        }
      ]
    },
    {
      "cell_type": "markdown",
      "source": [
        "Висновок зі спостереження середніх значень і висновок статистичного тесту збігаюітся."
      ],
      "metadata": {
        "id": "K-Xti1-3YklD"
      },
      "id": "K-Xti1-3YklD"
    }
  ],
  "metadata": {
    "hide_input": false,
    "kernelspec": {
      "display_name": "Python 3 (ipykernel)",
      "language": "python",
      "name": "python3"
    },
    "language_info": {
      "codemirror_mode": {
        "name": "ipython",
        "version": 3
      },
      "file_extension": ".py",
      "mimetype": "text/x-python",
      "name": "python",
      "nbconvert_exporter": "python",
      "pygments_lexer": "ipython3",
      "version": "3.11.3"
    },
    "toc": {
      "base_numbering": 1,
      "nav_menu": {},
      "number_sections": true,
      "sideBar": true,
      "skip_h1_title": false,
      "title_cell": "Table of Contents",
      "title_sidebar": "Contents",
      "toc_cell": false,
      "toc_position": {},
      "toc_section_display": true,
      "toc_window_display": false
    },
    "varInspector": {
      "cols": {
        "lenName": 16,
        "lenType": 16,
        "lenVar": 40
      },
      "kernels_config": {
        "python": {
          "delete_cmd_postfix": "",
          "delete_cmd_prefix": "del ",
          "library": "var_list.py",
          "varRefreshCmd": "print(var_dic_list())"
        },
        "r": {
          "delete_cmd_postfix": ") ",
          "delete_cmd_prefix": "rm(",
          "library": "var_list.r",
          "varRefreshCmd": "cat(var_dic_list()) "
        }
      },
      "types_to_exclude": [
        "module",
        "function",
        "builtin_function_or_method",
        "instance",
        "_Feature"
      ],
      "window_display": false
    },
    "colab": {
      "provenance": [],
      "include_colab_link": true
    }
  },
  "nbformat": 4,
  "nbformat_minor": 5
}